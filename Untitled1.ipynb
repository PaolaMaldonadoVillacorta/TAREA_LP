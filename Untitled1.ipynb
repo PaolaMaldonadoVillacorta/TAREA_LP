{
  "nbformat": 4,
  "nbformat_minor": 0,
  "metadata": {
    "colab": {
      "provenance": [],
      "authorship_tag": "ABX9TyNkVRZC9eObHaZ1RMP0Rkng",
      "include_colab_link": true
    },
    "kernelspec": {
      "name": "python3",
      "display_name": "Python 3"
    },
    "language_info": {
      "name": "python"
    }
  },
  "cells": [
    {
      "cell_type": "markdown",
      "metadata": {
        "id": "view-in-github",
        "colab_type": "text"
      },
      "source": [
        "<a href=\"https://colab.research.google.com/github/PaolaMaldonadoVillacorta/TAREA_LP/blob/main/Untitled1.ipynb\" target=\"_parent\"><img src=\"https://colab.research.google.com/assets/colab-badge.svg\" alt=\"Open In Colab\"/></a>"
      ]
    },
    {
      "cell_type": "code",
      "execution_count": null,
      "metadata": {
        "id": "LhO9VaBV196l"
      },
      "outputs": [],
      "source": [
        "class Curso:\n",
        "    def __init__(self, nombre, codigo, horas, ciclo, numero_alumnos):\n",
        "        self.nombre = nombre\n",
        "        self.horas = horas\n",
        "        self.codigo = codigo\n",
        "        self.ciclo = ciclo\n",
        "        self.numero_alumnos = numero_alumnos\n",
        "\n",
        "    def agregar_hora(self):\n",
        "        self.horas += 1\n",
        "\n",
        "    def agregar_alumnos(self, numero_alumnos):\n",
        "        self.numero_alumnos += numero_alumnos\n",
        "\n",
        "    def presentar(self):\n",
        "        print(f\"{self.nombre} tiene {self.horas} horas por semana, {self.numero_alumnos} alumnos y es del ciclo {self.ciclo}\")\n"
      ]
    },
    {
      "cell_type": "code",
      "source": [
        "aga = Curso(\"algebra y geometria analitica\", 2018435, 6, 1, 30)\n",
        "aga.presentar()"
      ],
      "metadata": {
        "colab": {
          "base_uri": "https://localhost:8080/"
        },
        "id": "WlTGKSBn2L6_",
        "outputId": "6378f78a-a893-43a9-8718-dcc830823cc0"
      },
      "execution_count": null,
      "outputs": [
        {
          "output_type": "stream",
          "name": "stdout",
          "text": [
            "algebra y geometria analitica tiene 6 horas por semana, 30 alumnos y es del ciclo 1\n"
          ]
        }
      ]
    },
    {
      "cell_type": "code",
      "source": [
        "edo = Curso(\"Ecuaciones a¡diferenciales ordinarias\", 23190124, 4, 3, 25)\n",
        "edo.presentar()"
      ],
      "metadata": {
        "colab": {
          "base_uri": "https://localhost:8080/"
        },
        "id": "XqIM-hIq2yrd",
        "outputId": "cf0f60ff-6a2a-4a2e-af74-cc2246746c9f"
      },
      "execution_count": null,
      "outputs": [
        {
          "output_type": "stream",
          "name": "stdout",
          "text": [
            "Ecuaciones a¡diferenciales ordinarias tiene 4 horas por semana, 25 alumnos y es del ciclo 3\n"
          ]
        }
      ]
    }
  ]
}